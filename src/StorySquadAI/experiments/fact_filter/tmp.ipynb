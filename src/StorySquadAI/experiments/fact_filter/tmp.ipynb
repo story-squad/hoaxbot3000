{
 "cells": [
  {
   "cell_type": "code",
   "execution_count": null,
   "metadata": {
    "collapsed": true,
    "pycharm": {
     "name": "#%%\n"
    }
   },
   "outputs": [],
   "source": [
    "\"\"\"\n",
    "        Returns -1 if the response IS factual, otherwise returns the response that it was given.\n",
    "        :return:\n",
    "        \"\"\"\n",
    "        definition_corpus = \"\"\"A slang term used to describe the act of \"picking one's nose.\"\n",
    "A female teacher for whom the word \"adore\" was invented; one who is adored.\n",
    "A battle cry in the Middle Ages.\n",
    "The way the ancient Roman's achieved their high-sounding names for their offspring: the father's first name plus the word \"custos\" (keeper).\n",
    "The act of looking depressed and not doing anything about it.\n",
    "A type of prosthesis used by the blind to read Braille by touch.\n",
    "The zipper of a T-shirt.\n",
    "A final note in a musical scale in the higher registers.\n",
    "A genus of wrasse that is noted for the very large scales that adorn their bodies. Common in the Indo-pacific.\n",
    "Portmanteau of \"orchid\" and \"rhythm\" (referring to a type of bicycle that is ridden in an orchid-like, swaying motion).\n",
    "To exchange and trade without giving anything in return.\n",
    "The Scottish profession of a man who \"is always to be found with a glass of whiskey in one hand and a card in the other\".\n",
    "The act of taking an animal's spleen as a delicacy.\n",
    "Sloutly can refer to any thing being \"sloppy\". Sloutly is a new word that only appeared in the late 1990s. It is most often used in texting applications.\n",
    "Spanish for \"pantyhose\".\n",
    "Pronounced \"mustin-slid-lai\", the word is used in the British Army to describe a soldier who is \"not quite right in the head\" or \"awkward\".\n",
    "A cottage cheese made by folding a slice of bread in half, cutting it lengthwise, then cutting it into cubes and adding them to the cottage cheese.\n",
    "A verb describing the act of someone giving up, especially in sports.\n",
    "the act of a person who has taken a liking to one thing and has it in every aspect of their life.\n",
    "A poem that has been obtusely adapted by a popular video game. The most common adaptation of this poem is in the game 'Dead Or Alive 4'\"\"\"\n",
    "        print(kwargs)\n",
    "        if type(kwargs) is not LLMRequest:\n",
    "            base = [\"is a\"]\n",
    "            definitions = [\"the elephant had thick hide and was very large\",\n",
    "                           \"the color red is at the beginning of the electromagnetic spectrum\",\n",
    "                           ]+definition_corpus.split(\"\\n\")\n",
    "\n",
    "            not_definitions=[\"the geese flew fast and furious\",\n",
    "                             \"I skipped through the forest with wild abandon\",\n",
    "                             \"I noticed that the sun was shining\",\n",
    "                             \"the elephant ran away and skipped through the forest\",\n",
    "                             \"the penguins rode fast and furious on the motorway\",\n",
    "                             ]\n",
    "\n",
    "            tests = base + definitions + not_definitions\n",
    "            tests.append(kwargs[0])\n",
    "            tests.append(kwargs[1])\n",
    "\n",
    "            def_vector = self.nlp_eng_med(' '.join(definitions)).vector\n",
    "            not_def_vector = self.nlp_eng_med(' '.join(not_definitions)).vector\n",
    "            test_vector = def_vector - not_def_vector\n",
    "\n",
    "            test_tokens = [self.nlp_eng_med(i) for i in tests[-10:]]\n",
    "\n",
    "            from itertools import combinations\n",
    "            comb = combinations(test_tokens, 2)\n",
    "            for a, b in comb:\n",
    "                if (len(a.text)<100) and (len(b.text)<100):\n",
    "                    print(f'({a.text}) -> ({b.text}), sim: {a.similarity(b)}')\n",
    "                elif len(a.text)>=100:\n",
    "                    print(f'(def corpus*) -> ({b.text}), sim: {a.similarity(b)}')\n",
    "                elif len(b.text)>=100:\n",
    "                    print(f'({a.text}) -> (def corpus*), sim: {a.similarity(b)}')\n",
    "            new_base = test_vector\n",
    "\n",
    "            for i in test_tokens:\n",
    "                print(f'{i.text} -> {(i.vector @ new_base.T) / (norm (i.vector) * norm(new_base)) }')\n",
    "        else:\n",
    "            pass\n",
    "        return kwargs"
   ]
  }
 ],
 "metadata": {
  "kernelspec": {
   "display_name": "Python 3",
   "language": "python",
   "name": "python3"
  },
  "language_info": {
   "codemirror_mode": {
    "name": "ipython",
    "version": 2
   },
   "file_extension": ".py",
   "mimetype": "text/x-python",
   "name": "python",
   "nbconvert_exporter": "python",
   "pygments_lexer": "ipython2",
   "version": "2.7.6"
  }
 },
 "nbformat": 4,
 "nbformat_minor": 0
}