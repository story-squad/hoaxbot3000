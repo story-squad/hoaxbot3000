{
 "cells": [
  {
   "cell_type": "code",
   "execution_count": 1,
   "outputs": [],
   "source": [
    "import numpy as np\n",
    "import random\n",
    "import os\n",
    "import openai\n",
    "import pandas as pd\n",
    "from sklearn.manifold import TSNE\n",
    "import matplotlib.pyplot as plt\n",
    "import matplotlib\n",
    "#from .. import *\n",
    "\n",
    "import json\n",
    "from  StorySquadAI.contestant import StorySquadAI\n",
    "HoaxAI = StorySquadAI(data_dir=\"..//..//data//\")\n",
    "bot_default = HoaxAI.create_bot_with_personality(personality=\"originaltestbot\")\n",
    "bot_default.engine_to_use='ada'\n",
    "\n",
    "bot_bubblebot_ada = HoaxAI.create_bot_with_personality(personality=\"bubblebot\")\n",
    "bot_bubblebot_ada.engine_to_use='ada'\n",
    "\n",
    "bot_buzzkillbot_ada = HoaxAI.create_bot_with_personality(personality=\"bubblebot\")\n",
    "bot_buzzkillbot_ada.engine_to_use= 'ada'\n",
    "\n",
    "bot_bubblebot_curie = HoaxAI.create_bot_with_personality(personality=\"bubblebot\")\n",
    "bot_bubblebot_curie.engine_to_use='curie'\n",
    "\n",
    "bot_bubblebot_v2_curie = HoaxAI.create_bot_with_personality(personality=\"bubblebot_v2\")\n",
    "bot_bubblebot_v2_curie.engine_to_use='curie'\n",
    "\n",
    "\n",
    "bot_buzzkillbot_curie = HoaxAI.create_bot_with_personality(personality=\"bubblebot\")\n",
    "bot_buzzkillbot_curie.engine_to_use='curie'\n",
    "\n",
    "\n",
    "orig_context_movie = bot_default.personality.responses[\"movie\"].context_doc\n",
    "orig_context_person = bot_default.personality.responses[\"person\"].context_doc\n",
    "orig_context_thing = bot_default.personality.responses[\"thing\"].context_doc\n",
    "\n",
    "#context_dir = '../../data'\n",
    "#orig_context_movie = open(os.path.join(context_dir, \"movie.context.txt\")).read()\n",
    "#orig_context_person = open(os.path.join(context_dir, \"person.context.txt\")).read()\n",
    "#orig_context_thing = open(os.path.join(context_dir, \"thing.context.txt\")).read()\n",
    "\n",
    "test_set = [(\"yes\",\"no\"),(\"good\",\"bad\"),(\"up\",\"down\"),(\"north\",\"south\"),(\"hard\",\"soft\"),(\"liquid\",\"solid\"),(\"summer\",\"winter\"),(\"eutopia\",\"dystopia\")]\n",
    "test_set_list = [\"yes\",\"no\",\"good\",\"bad\",\"up\",\"down\",\"north\",\"south\",\"hard\",\"soft\",\"liquid\",\"solid\",\"summer\",\"winter\",\"eutopia\",\"dystopia\"]\n",
    "\n",
    "default_query_list=[\n",
    "    ('apple','The Divinci Code','John Dillon'),\n",
    "    ('dompteuse','blackfish','Catrin Saeed'),\n",
    "    ('saggar','In the Name of the Father','Catrin Saeed'),\n",
    "    ('potometer','Billy Elliot','Mohammad Rosmunda'),\n",
    "    ('amoretto','Jeff, Who Lives at Home','Amis Shiva'),\n",
    "    ('pergola','Calamity Jane','Ronan Kara'),\n",
    "    ('dasypoedes','Monster-In-Law','Huangdi Mohammad'),\n",
    "    ('selenography','The Departed ','Tamela Ace'),\n",
    "    ('scrimure','The Pacifier','Yvonne Tatton'),\n",
    "    ('paronomasia','Aquamarine','Dareios Katarina'),\n",
    "    ('doxastic','Fury','Marijana Pau'),\n",
    "    ('brank','What Dreams May Come','Cadeyrn Manish'),\n",
    "]\n",
    "\n",
    "openai.api_key = os.getenv(\"OPENAI_API_KEY\")"
   ],
   "metadata": {
    "collapsed": false,
    "pycharm": {
     "name": "#%%\n"
    }
   }
  },
  {
   "cell_type": "code",
   "execution_count": 2,
   "outputs": [],
   "source": [
    "def get_embedding(bot:StorySquadAI.StorySquadBot,s:str=\"test string\"):\n",
    "    embedding = openai.Engine(id=f\"{bot.engine_to_use}-similarity\").embeddings(\n",
    "    input=s\n",
    "    )['data'][0]['embedding']\n",
    "    return embedding\n",
    "\n",
    "def get_embeddings_for_list(bot:StorySquadAI.StorySquadBot,l:list):\n",
    "    return [get_embedding(bot,c) for c in l]\n",
    "\n",
    "def get_set_of_colors(min_sat:float,min_dist:float,number:int,set_size:int=1):\n",
    "    o=np.empty((1,3))\n",
    "    while len(o) < (number*set_size)+2:\n",
    "            s=0;v=1;set_min_dist=0\n",
    "            try_count = 1000\n",
    "            while (s < min_sat) | (v>.55) | (set_min_dist<min_dist):\n",
    "                new_rgb=np.random.random((1,3))\n",
    "                s = (abs(new_rgb[0,0]-new_rgb[0,1])+abs(new_rgb[0,0]-new_rgb[0,2])+abs(new_rgb[0,1]-new_rgb[0,2]))/3\n",
    "                v = np.mean(new_rgb)\n",
    "                set_min_dist = np.sum(abs(o - new_rgb),axis=1).min()\n",
    "                try_count=try_count-1\n",
    "                if try_count <=0:\n",
    "                    break\n",
    "                #print(s,v,set_min_dist)\n",
    "            for _ in range (set_size):\n",
    "                o=np.concatenate([o,new_rgb])\n",
    "    return o[1:(number*set_size)+1].tolist()\n",
    "\n",
    "class ExperimentalPCA:\n",
    "\n",
    "    def __init__(self):\n",
    "        from  sklearn.decomposition import PCA\n",
    "        self.PCA = PCA(n_components=2)\n",
    "\n",
    "    def get_scatter_pts_for_embeddings_list(self,embeddings,fit=False):\n",
    "        if fit:\n",
    "            data = self.PCA.fit_transform(embeddings)\n",
    "        else:\n",
    "            data = self.PCA.transform(embeddings)\n",
    "\n",
    "        x = [x for x,y in data]\n",
    "        y = [y for x,y in data]\n",
    "        return x, y\n",
    "\n",
    "def get_embeddings_for_list_of_context_docs(context_doc_list:list,marker_list:list=['o']):\n",
    "    out_emb =[]\n",
    "    out_markers=[]\n",
    "    for i,context_doc in enumerate(context_doc_list):\n",
    "        current_marker = marker_list[i]\n",
    "        context_doc=context_doc.replace(\"U.S\",\"US\")\n",
    "        for line in context_doc.splitlines():\n",
    "            if not(\"Movie:\" in line):\n",
    "                if not(\"Who Is\" in line):\n",
    "                    if not(\"Q: \" in line):\n",
    "                        if not(\"C: \" in line):\n",
    "                            if len(line)> 2:\n",
    "                                print(line)\n",
    "                                out_emb.append(get_embedding(line))\n",
    "                                out_markers.append(current_marker)\n",
    "\n",
    "    return out_emb,out_markers\n",
    "\n",
    "def generate_results(query_list:list,bot:StorySquadAI.StorySquadBot):\n",
    "    results =[]\n",
    "    results_embeddings=[]\n",
    "\n",
    "    for query_tuple in query_list:\n",
    "        thing_res = bot.thing(prompt= query_tuple[0])\n",
    "        results.append(thing_res)\n",
    "        results_embeddings.append(get_embedding(thing_res))\n",
    "\n",
    "        person_res = bot.person(person= query_tuple[1])\n",
    "        results.append(person_res)\n",
    "        results_embeddings.append(get_embedding(person_res))\n",
    "\n",
    "        movie_res = bot.movie(movie= query_tuple[2])\n",
    "        results.append(movie_res)\n",
    "        results_embeddings.append(get_embedding(movie_res))\n",
    "\n",
    "\n",
    "    return results,results_embeddings\n",
    "\n",
    "def get_plot_display_data_for_list(list_of_strings:str,bot:StorySquadAI.StorySquadBot,color:list,shape:str):\n",
    "    \"\"\"given a list of string generates a list of tuples containing the string, color, shape needed for plotting\"\"\"\n",
    "    pass"
   ],
   "metadata": {
    "collapsed": false,
    "pycharm": {
     "name": "#%%\n"
    }
   }
  },
  {
   "cell_type": "code",
   "execution_count": null,
   "outputs": [],
   "source": [
    "with open (\"default_results.txt\",\"r\") as f:\n",
    "    default_results = json.loads(f.read())\n",
    "    default_results_thing= default_results[::3]\n",
    "    default_results_person= default_results[1::3]\n",
    "    default_results_movie= default_results[2::3]\n",
    "with open (\"bubble_bot_results.txt\",\"r\") as f:\n",
    "    bubble_bot_result = json.loads(f.read())\n",
    "    bubble_bot_result_thing= bubble_bot_result[::3]\n",
    "    bubble_bot_result_person= bubble_bot_result[1::3]\n",
    "    bubble_bot_result_movie= bubble_bot_result[2::3]\n",
    "\n",
    "corpi_list=[test_set,\n",
    "            orig_context_thing,orig_context_person,orig_context_movie,\n",
    "            default_results_thing,default_results_person,default_results_movie,\n",
    "            bubble_bot_result_thing,bubble_bot_result_person,bubble_bot_result_movie]\n",
    "\n",
    "test_set_emb = get_embeddings_for_list(test_set_list)\n",
    "embeddings_for_default_context_doc = get_embeddings_for_list_of_context_docs(\n",
    "    [orig_context_movie,orig_context_person,orig_context_thing],\n",
    "    marker_list=['t','o','s'])\n",
    "\n",
    "all_emb = test_set_emb+\\\n",
    "          embeddings_for_default_context_doc+\\\n",
    "          default_result_embeddings+\\\n",
    "          bubble_bot_result_embeddings\n",
    "\n",
    "test_set_colors = get_set_of_colors(min_dist=.55,min_sat=.5,number=8,set_size=2)\n",
    "default_context_colors = [[0,0,0]]*len(embeddings_for_default_context_doc)\n",
    "bubble_bot_res_scatter_colors = [[.75,.25,1.0,.15]]*len(bubble_bot_result_embeddings)\n",
    "default_res_scatter_colors = [[.25,.5,1.0,.15]]*len(default_result_embeddings)\n",
    "\n",
    "all_colors = test_set_colors+\\\n",
    "             default_context_colors+\\\n",
    "             default_res_scatter_colors+\\\n",
    "             bubble_bot_res_scatter_colors"
   ],
   "metadata": {
    "collapsed": false,
    "pycharm": {
     "name": "#%%\n"
    }
   }
  },
  {
   "cell_type": "code",
   "execution_count": null,
   "outputs": [],
   "source": [
    "exp_PCA = ExperimentalPCA()\n",
    "\n",
    "all_x,all_y =exp_PCA.get_scatter_pts_for_embeddings_list(all_emb,fit=True)\n",
    "\n",
    "plt.figure(figsize=(15,15))\n",
    "plt.scatter(all_x, all_y,c=all_colors,s=128,marker=\"s\")\n",
    "\n",
    "plt.title(\"test set embeddings\")\n",
    "plt.show()"
   ],
   "metadata": {
    "collapsed": false,
    "pycharm": {
     "name": "#%%\n"
    }
   }
  },
  {
   "cell_type": "code",
   "execution_count": null,
   "outputs": [],
   "source": [
    "\n"
   ],
   "metadata": {
    "collapsed": false,
    "pycharm": {
     "name": "#%%\n"
    }
   }
  },
  {
   "cell_type": "code",
   "execution_count": null,
   "outputs": [],
   "source": [
    "all_emb = test_set_emb+default_results+embeddings_for_default_context_doc\n",
    "from  sklearn.decomposition import PCA\n",
    "this_PCA = PCA(n_components=2)\n",
    "fit = this_PCA.fit_transform(all_emb)\n",
    "\n",
    "\n",
    "vis_dims = fit\n",
    "x = [x for x,y in vis_dims]\n",
    "y = [y for x,y in vis_dims]\n",
    "plt.scatter(x,y)\n",
    "plt.show()"
   ],
   "metadata": {
    "collapsed": false,
    "pycharm": {
     "name": "#%%\n"
    }
   }
  },
  {
   "cell_type": "code",
   "execution_count": null,
   "outputs": [],
   "source": [
    "default_results,default_results_embeddings = generate_results(default_query_list)"
   ],
   "metadata": {
    "collapsed": false,
    "pycharm": {
     "name": "#%%\n"
    }
   }
  },
  {
   "cell_type": "code",
   "execution_count": null,
   "outputs": [],
   "source": [
    "out = json.dumps(default_results)\n",
    "with open (\"default_results.txt\",\"w\") as f:\n",
    "    f.write(out)\n",
    "\n",
    "out = json.dumps(default_results_embeddings)\n",
    "with open (\"default_embeddings.txt\",\"w\") as f:\n",
    "    f.write(out)"
   ],
   "metadata": {
    "collapsed": false,
    "pycharm": {
     "name": "#%%\n"
    }
   }
  },
  {
   "cell_type": "code",
   "execution_count": 6,
   "outputs": [
    {
     "name": "stdout",
     "output_type": "stream",
     "text": [
      "[('acaer', 'Rolando Morales', 'Car Keys'), ('strooms', 'Forest Cherry', 'Warehouse'), ('strustate', 'Mack Cline', 'Tear-Jerker'), ('fibbelous', 'Cornelius Anthony', 'Green Thumb'), ('hettickism', 'Omar Anderson', 'The Help'), ('nonsives', 'Rick Gates', 'Sugar Addict'), ('fewtert', 'Cecil Taylor', 'Telephone Tag'), ('adberastered', 'Terrance Myers', 'Fire Flies'), ('fruismyther', 'Xavier Dunlap', 'Random Wink'), ('deferts', 'Augustine Ruiz', 'Fancy Pants'), ('sineout', 'Lon Rich', 'Morning Sunrise'), ('mentics', 'Jacob Hart', 'The Glance'), ('appectedies', 'Bobbie Murphy', 'In The Shadows'), ('sedubing', 'Carlo Kramer', 'Magic Lamp'), ('canorting', 'Herbert Tucker', 'Peak Outside'), ('climpower', 'Salvador Flynn', 'Shopping Addict'), ('swooflia', 'Amado Hancock', 'Memory Lane'), ('berictions', 'Raymundo Giles', 'Backhanded Insult'), ('usness', 'Roberto Duran', 'Heroic Gesture'), ('relatern', 'Pat Hayes', 'The Voyage'), ('submisitted', 'Robt Ashley', 'Alarm Clock'), ('orousloth', 'Eduardo Chan', 'Last Person'), ('ticessmed', 'Pat Mckay', 'Fear Factor'), ('illigent', 'Randolph Durham', 'The Foreclosure'), ('skattrandpoint', 'Julio Mcgrath', 'Bug Catcher'), ('parkasting', 'Harold Bartlett', 'The Addict'), ('skizzle', 'Les Terry', 'The Stars'), ('cobsteme', 'Sung Johns', 'Mirror Mirror'), ('iressent', 'Bob Gordon', 'True Friendship'), ('perstablintome', 'Wesley Hickman', 'Perfect Smile'), ('thrubbish', 'Dorian Watson', 'Routine Exam'), ('nessinfulleter', 'Kim Donovan', 'Lost Letter'), ('dicapayroling', 'Ignacio Morris', 'Dragon Breath'), ('forminsting', 'Efrain Grimes', 'Fairy Tales'), ('loustran', 'Marlin Chambers', 'Red Faced'), ('loniformi', 'Lance Gallagher', 'The Cleaner'), ('ponessing', 'Dan Vang', 'Unrequited Love'), ('befolking', 'Ulysses Duncan', 'Status Update'), ('coolts', 'Reid Pennington', 'Secret Whispers'), ('beaspieching', 'Eldon Chang', 'World Map'), ('iquiptor', 'Carlo Hamilton', 'Spice Rack'), ('attempate', 'Foster Frank', 'Handle With Care'), ('lationwarding', 'Collin Mcgrath', 'Magic Jewels'), ('beerpuglet', 'Brad Orr', 'Peace Out'), ('condled', 'Leo Burnett', 'Drama Queen'), ('prients', 'Lazaro Reeves', 'Apple and Oranges'), ('ansfied', 'Sam Crawford', 'Beautiful Sunset'), ('payellards', 'Kendrick Mason', 'The Greeter'), ('monovaul', 'Prince Meadows', 'Silly Sports'), ('totanded', 'Rudolph Macias', 'Perfect Recipe'), ('subscrownic', 'Carmen Boone', 'In The Shadows'), ('geyflorrin', 'Lakisha Vang', 'Frame It'), ('fisswert', 'Lora Todd', 'Four Seasons'), ('bascrily', 'Tracey Berry', 'Purple Haze'), ('heimaless', 'Ofelia Jackson', 'Sound of Silence'), ('custacin', 'Estelle Pena', 'Random Page'), ('bobbonian', 'Pam Strong', 'Rewritten'), ('volvinstifiend', 'Katharine Kaiser', 'The Stars'), ('hoffratobit', 'Naomi Harris', 'Coming Dread'), ('rousur', 'Essie Lowery', 'The Professor'), ('dimens', 'Frieda Mccann', 'Closed Doors'), ('bytriport', 'Melissa Maldonado', 'Routine Exam'), ('adjoress', 'Kelsey Farmer', 'The Addict'), ('fectiven', 'Claudia Roth', 'Missing You'), ('meletarrowed', 'Staci Gray', 'Not Normal'), ('pruste', 'Bridgette Fitzpatrick', 'Perfect Recipe'), ('briderus', 'Diane Cummings', 'World Map'), ('mustanslidly', 'Freda Gregory', 'Dream Catcher'), ('hoovers', 'Marylou Gates', 'Silly Sports'), ('inducilly', 'Evangeline Calderon', 'Fear Factor'), ('squiseaudarts', 'Lacy Soto', 'Cozy Night'), ('suspokertell', 'Ebony Berger', 'Abandoned Beauty'), ('confussize', 'Ginger Hobbs', 'Fairy Tales'), ('aquaked', 'Ruthie Palmer', 'Light Bulb'), ('yokovich', 'Shelly Hurley', 'The Unknown'), ('safedeed', 'Lynette Santos', 'Heroic Gesture'), ('counfused', 'Freda Harrison', 'Handle With Care'), ('anghteribeef', 'Alyce Quinn', 'Coffee or Tea'), ('frantly', 'Stefanie Jordan', 'Peak Outside'), ('chershoee', 'Tamara Cobb', 'Natural Wonders'), ('perstablintome', 'Erin Romero', 'Shopping Addict'), ('cowlinexanuts', 'Fanny Turner', 'People Watching'), ('slairisk', 'Corinne Marquez', 'Mirror Mirror'), ('poemess', 'Shawna Cooley', 'Convenience Store'), ('accurry', 'Candice Lewis', 'Animal Crossing'), ('clinizes', 'Rena Jones', 'Lost Letter'), ('gissorm', 'Della Berg', 'The Glance'), ('bellignorant', 'Jeanie Ward', 'Last Person'), ('inghts', 'Fanny Ortega', 'The Foreclosure'), ('promnely', 'Penelope Mcintosh', 'Dear Diary'), ('astrus', 'Virginia Miller', 'Eavesdropper'), ('babones', 'Myra Ayers', 'Holding Hands'), ('obstans', 'Aileen Freeman', 'Warehouse'), ('peartzle', 'Matilda Vang', 'Tear-Jerker'), ('aturned', 'Cora Santana', 'Dirty Laundry'), ('torshn', 'Josephine Berger', 'Miniature Dollhouse'), ('sloutly', 'Darlene Conway', 'Spice Rack'), ('blacclusly', 'Alfreda Bowers', 'Red Faced'), ('mouruge', 'Fanny Navarro', 'Constant Motion'), ('lantifices', 'Linda Sloan', 'Memory Lane')]\n",
      "('strooms', 'Forest Cherry', 'Warehouse')\n"
     ]
    }
   ],
   "source": [
    "## load and shape data\n",
    "files=[\"things_100.txt\",\"names_100.txt\",\"movies_100.txt\"]\n",
    "extended_query_list =[]\n",
    "for file_name in files:\n",
    "    with open(file_name) as f:\n",
    "        extended_query_list.append(f.read().splitlines())\n",
    "extended_query_list= zip(*extended_query_list)\n",
    "extended_query_list = [ (a,b,c) for a,b,c in extended_query_list]\n",
    "print(extended_query_list)\n",
    "print(extended_query_list[1])"
   ],
   "metadata": {
    "collapsed": false,
    "pycharm": {
     "name": "#%%\n"
    }
   }
  },
  {
   "cell_type": "code",
   "execution_count": 3,
   "outputs": [],
   "source": [
    "def get_responses_for_bot_for_query_list(bot,query_list):\n",
    "    out_queries = []\n",
    "    out_results =[]\n",
    "    out_result_embeddings =[]\n",
    "    for query_tuple in query_list:\n",
    "        thing_res = bot.thing(prompt = query_tuple[0])\n",
    "        out_result_embeddings.append(get_embedding(bot,thing_res))\n",
    "        out_results.append(thing_res)\n",
    "        out_queries.append(query_tuple[0])\n",
    "\n",
    "        movie_res = bot.movie(movie = query_tuple[1])\n",
    "        out_result_embeddings.append(get_embedding(bot,movie_res))\n",
    "        out_results.append(movie_res)\n",
    "        out_queries.append(query_tuple[1])\n",
    "\n",
    "        person_res = bot.person(person = query_tuple[2])\n",
    "        out_result_embeddings.append(get_embedding(bot,person_res))\n",
    "        out_results.append(person_res)\n",
    "        out_queries.append(query_tuple[2])\n",
    "\n",
    "    return out_results,out_result_embeddings,out_queries"
   ],
   "metadata": {
    "collapsed": false,
    "pycharm": {
     "name": "#%%\n"
    }
   }
  },
  {
   "cell_type": "code",
   "execution_count": 8,
   "outputs": [],
   "source": [
    "def create_save_bot_results_for_bot(bot:str,number:int=1,engine:str=\"ada\"):\n",
    "    _hoax_ai = StorySquadAI(data_dir=\"..//..//data//\")\n",
    "    _bot =_hoax_ai.create_bot_with_personality(bot)\n",
    "    _bot.engine_to_use=engine\n",
    "    _bot_results,_bot_embeddings,_ = \\\n",
    "        get_responses_for_bot_for_query_list(_bot,extended_query_list[0:number])\n",
    "\n",
    "\n",
    "    for i,_list in enumerate([\"thing\",\"movie\",\"person\"]):\n",
    "        out_results = json.dumps(_bot_results[i::3])\n",
    "        out_embeddings = json.dumps(_bot_embeddings[i::3])\n",
    "\n",
    "        with open(f\"{_bot.engine_to_use}_{bot}_{_list}_result.txt\",\"w\") as f:\n",
    "            f.write(out_results)\n",
    "        with open(f\"{_bot.engine_to_use}_{bot}_{_list}_embeddings.txt\",\"w\") as f:\n",
    "            f.write(out_embeddings)\n",
    "        print(f'{_list} done.')"
   ],
   "metadata": {
    "collapsed": false,
    "pycharm": {
     "name": "#%%\n"
    }
   }
  },
  {
   "cell_type": "code",
   "execution_count": 10,
   "outputs": [
    {
     "name": "stdout",
     "output_type": "stream",
     "text": [
      "thing done.\n",
      "movie done.\n",
      "person done.\n"
     ]
    }
   ],
   "source": [
    "create_save_bot_results_for_bot(\"bubblebot_v4\",number=50,engine=\"curie\")"
   ],
   "metadata": {
    "collapsed": false,
    "pycharm": {
     "name": "#%%\n"
    }
   }
  },
  {
   "cell_type": "code",
   "execution_count": null,
   "outputs": [],
   "source": [
    "bot_bubblebot_v3_curie= HoaxAI.create_bot_with_personality(\"bubblebot_v3\")\n",
    "bot_bubblebot_v3_results,bot_bubblebot_v3_results_embeddings = \\\n",
    "    get_responses_for_bot_for_query_list(bot_bubblebot_v3_curie,default_query_list)\n",
    "out = json.dumps(bot_bubblebot_v3_results)"
   ],
   "metadata": {
    "collapsed": false,
    "pycharm": {
     "name": "#%%\n"
    }
   }
  },
  {
   "cell_type": "code",
   "execution_count": 6,
   "outputs": [],
   "source": [
    "with open(\"curie_bubblebot_v3_person_result.txt\",\"w\") as f:\n",
    "    f.write(out)"
   ],
   "metadata": {
    "collapsed": false,
    "pycharm": {
     "name": "#%%\n"
    }
   }
  },
  {
   "cell_type": "code",
   "execution_count": 4,
   "outputs": [
    {
     "name": "stdout",
     "output_type": "stream",
     "text": [
      "0 of 5\n",
      "1 of 5\n",
      "2 of 5\n",
      "3 of 5\n",
      "4 of 5\n"
     ]
    }
   ],
   "source": [
    "bot_bubblebot_v4_curie= HoaxAI.create_bot_with_personality(\"bubblebot_v4\")\n",
    "bot_bubblebot_v4_results,bot_bubblebot_v4_results_embeddings = \\\n",
    "    get_responses_for_bot_for_query_list(bot_bubblebot_v4_curie,default_query_list)\n",
    "out = json.dumps(bot_bubblebot_v4_results)"
   ],
   "metadata": {
    "collapsed": false,
    "pycharm": {
     "name": "#%%\n"
    }
   }
  },
  {
   "cell_type": "code",
   "execution_count": 5,
   "outputs": [],
   "source": [
    "with open(\"curie_bubblebot_v4_person_result.txt\",\"w\") as f:\n",
    "    f.write(out)"
   ],
   "metadata": {
    "collapsed": false,
    "pycharm": {
     "name": "#%%\n"
    }
   }
  },
  {
   "cell_type": "code",
   "execution_count": null,
   "outputs": [],
   "source": [
    "out = json.dumps(bubble_results)\n",
    "with open (\"bubble_bot_results.txt\",\"w\") as f:\n",
    "    f.write(out)\n",
    "\n"
   ],
   "metadata": {
    "collapsed": false,
    "pycharm": {
     "name": "#%%\n"
    }
   }
  },
  {
   "cell_type": "code",
   "execution_count": null,
   "outputs": [],
   "source": [
    "# $$$ Warning Costs Money ---\n",
    "# retrieve results from openapi\n",
    "# cost est = 7000*50*.006 around $2 for curie\n",
    "a= input(\"spend money?\")\n",
    "if \"yes\" in a:\n",
    "    results,result_emb= generate_results(data[:50],bot_bubblebot_curie)"
   ],
   "metadata": {
    "collapsed": false,
    "pycharm": {
     "name": "#%%\n"
    }
   }
  },
  {
   "cell_type": "code",
   "execution_count": null,
   "outputs": [],
   "source": [
    "results_thing = results[0::3]\n",
    "results_person = results[1::3]\n",
    "results_movie = results[2::3]\n",
    "\n",
    "lists_to_print = {\"thing\": results_thing,\n",
    "                  \"person\": results_person,\n",
    "                  \"movie\": results_movie}\n",
    "\n",
    "for t,l in lists_to_print.items():\n",
    "    print(t)\n",
    "    file_name =f'./curie_bubblebot_{t}_result.txt'\n",
    "    print(file_name)\n",
    "    with open(file_name,\"a\") as f:\n",
    "        f.write(json.dumps(l))\n",
    "    for i in l:\n",
    "        print(i.replace(\"\\n\",\" \"))"
   ],
   "metadata": {
    "collapsed": false,
    "pycharm": {
     "name": "#%%\n"
    }
   }
  },
  {
   "cell_type": "code",
   "execution_count": null,
   "outputs": [],
   "source": [],
   "metadata": {
    "collapsed": false,
    "pycharm": {
     "name": "#%%\n"
    }
   }
  }
 ],
 "metadata": {
  "kernelspec": {
   "name": "python3",
   "language": "python",
   "display_name": "Python 3 (ipykernel)"
  },
  "language_info": {
   "codemirror_mode": {
    "name": "ipython",
    "version": 2
   },
   "file_extension": ".py",
   "mimetype": "text/x-python",
   "name": "python",
   "nbconvert_exporter": "python",
   "pygments_lexer": "ipython2",
   "version": "2.7.6"
  }
 },
 "nbformat": 4,
 "nbformat_minor": 0
}